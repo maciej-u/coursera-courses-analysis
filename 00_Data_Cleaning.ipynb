{
 "cells": [
  {
   "cell_type": "markdown",
   "metadata": {},
   "source": [
    "## Data Cleaning for Coursera Course Dataset\n",
    "\n",
    "### Introduction\n",
    "\n",
    "This notebook is dedicated to data cleaning as the initial phase of the project: Data Visualization with Python. The Coursera Course Dataset, which contains information about various courses offered on the Coursera platform, will be used. The dataset includes the following columns:\n",
    "\n",
    "1. `course_title`: The title of the course.\n",
    "2. `course_organization`: The organization offering the course.\n",
    "3. `course_Certificate_type`: The type of certification available for the course.\n",
    "4. `course_rating`: The rating of the course.\n",
    "5. `course_difficulty`: The difficulty level of the course.\n",
    "6. `course_students_enrolled`: The number of students enrolled in the course.\n",
    "\n",
    "Additionally, the original CSV file contains a column at the beginning with the number to identify the dataset.\n",
    "\n",
    "Data source and documentation: [Kaggle: Coursera Course Dataset](https://www.kaggle.com/datasets/siddharthm1698/coursera-course-dataset)\n",
    "\n",
    "### Objectives\n",
    "\n",
    "The primary objectives of this notebook are:\n",
    "\n",
    "1. **Loading and Inspecting the Data**: Importing the dataset using Pandas and getting an overview of the dataset by examining its structure and summary statistics.\n",
    "3. **Cleaning the Data**: Performing necessary data cleaning steps, including:\n",
    "   - Removing unnecessary columns.\n",
    "   - Converting data types to appropriate formats.\n",
    "   - Handling missing values.\n",
    "   - Standardizing the format of certain columns (e.g., converting student enrollment numbers to numerical values)."
   ]
  },
  {
   "cell_type": "markdown",
   "metadata": {},
   "source": [
    "### Data Loading and Initial Inspection\n",
    "\n",
    "The dataset is loaded from a CSV file using Pandas, and an initial inspection is performed to understand the dataset's structure and contents.\n",
    "\n",
    "1. **Displaying the First Few Rows**:"
   ]
  },
  {
   "cell_type": "code",
   "execution_count": 1,
   "metadata": {},
   "outputs": [
    {
     "data": {
      "text/html": [
       "<div>\n",
       "<style scoped>\n",
       "    .dataframe tbody tr th:only-of-type {\n",
       "        vertical-align: middle;\n",
       "    }\n",
       "\n",
       "    .dataframe tbody tr th {\n",
       "        vertical-align: top;\n",
       "    }\n",
       "\n",
       "    .dataframe thead th {\n",
       "        text-align: right;\n",
       "    }\n",
       "</style>\n",
       "<table border=\"1\" class=\"dataframe\">\n",
       "  <thead>\n",
       "    <tr style=\"text-align: right;\">\n",
       "      <th></th>\n",
       "      <th>Unnamed: 0</th>\n",
       "      <th>course_title</th>\n",
       "      <th>course_organization</th>\n",
       "      <th>course_Certificate_type</th>\n",
       "      <th>course_rating</th>\n",
       "      <th>course_difficulty</th>\n",
       "      <th>course_students_enrolled</th>\n",
       "    </tr>\n",
       "  </thead>\n",
       "  <tbody>\n",
       "    <tr>\n",
       "      <th>0</th>\n",
       "      <td>134</td>\n",
       "      <td>(ISC)² Systems Security Certified Practitioner...</td>\n",
       "      <td>(ISC)²</td>\n",
       "      <td>SPECIALIZATION</td>\n",
       "      <td>4.7</td>\n",
       "      <td>Beginner</td>\n",
       "      <td>5.3k</td>\n",
       "    </tr>\n",
       "    <tr>\n",
       "      <th>1</th>\n",
       "      <td>743</td>\n",
       "      <td>A Crash Course in Causality:  Inferring Causal...</td>\n",
       "      <td>University of Pennsylvania</td>\n",
       "      <td>COURSE</td>\n",
       "      <td>4.7</td>\n",
       "      <td>Intermediate</td>\n",
       "      <td>17k</td>\n",
       "    </tr>\n",
       "    <tr>\n",
       "      <th>2</th>\n",
       "      <td>874</td>\n",
       "      <td>A Crash Course in Data Science</td>\n",
       "      <td>Johns Hopkins University</td>\n",
       "      <td>COURSE</td>\n",
       "      <td>4.5</td>\n",
       "      <td>Mixed</td>\n",
       "      <td>130k</td>\n",
       "    </tr>\n",
       "    <tr>\n",
       "      <th>3</th>\n",
       "      <td>413</td>\n",
       "      <td>A Law Student's Toolkit</td>\n",
       "      <td>Yale University</td>\n",
       "      <td>COURSE</td>\n",
       "      <td>4.7</td>\n",
       "      <td>Mixed</td>\n",
       "      <td>91k</td>\n",
       "    </tr>\n",
       "    <tr>\n",
       "      <th>4</th>\n",
       "      <td>635</td>\n",
       "      <td>A Life of Happiness and Fulfillment</td>\n",
       "      <td>Indian School of Business</td>\n",
       "      <td>COURSE</td>\n",
       "      <td>4.8</td>\n",
       "      <td>Mixed</td>\n",
       "      <td>320k</td>\n",
       "    </tr>\n",
       "  </tbody>\n",
       "</table>\n",
       "</div>"
      ],
      "text/plain": [
       "   Unnamed: 0                                       course_title  \\\n",
       "0         134  (ISC)² Systems Security Certified Practitioner...   \n",
       "1         743  A Crash Course in Causality:  Inferring Causal...   \n",
       "2         874                     A Crash Course in Data Science   \n",
       "3         413                            A Law Student's Toolkit   \n",
       "4         635                A Life of Happiness and Fulfillment   \n",
       "\n",
       "          course_organization course_Certificate_type  course_rating  \\\n",
       "0                      (ISC)²          SPECIALIZATION            4.7   \n",
       "1  University of Pennsylvania                  COURSE            4.7   \n",
       "2    Johns Hopkins University                  COURSE            4.5   \n",
       "3             Yale University                  COURSE            4.7   \n",
       "4   Indian School of Business                  COURSE            4.8   \n",
       "\n",
       "  course_difficulty course_students_enrolled  \n",
       "0          Beginner                     5.3k  \n",
       "1      Intermediate                      17k  \n",
       "2             Mixed                     130k  \n",
       "3             Mixed                      91k  \n",
       "4             Mixed                     320k  "
      ]
     },
     "execution_count": 1,
     "metadata": {},
     "output_type": "execute_result"
    }
   ],
   "source": [
    "import pandas as pd\n",
    "from convert_num_function import convert_to_number\n",
    "\n",
    "df = pd.read_csv(\"coursea_data.csv\")\n",
    "df.head()"
   ]
  },
  {
   "cell_type": "markdown",
   "metadata": {},
   "source": [
    "2. **Dropping Unnecessary Columns**: Removing the `Unnamed: 0` column as it is not needed for analysis."
   ]
  },
  {
   "cell_type": "code",
   "execution_count": 2,
   "metadata": {},
   "outputs": [
    {
     "data": {
      "text/html": [
       "<div>\n",
       "<style scoped>\n",
       "    .dataframe tbody tr th:only-of-type {\n",
       "        vertical-align: middle;\n",
       "    }\n",
       "\n",
       "    .dataframe tbody tr th {\n",
       "        vertical-align: top;\n",
       "    }\n",
       "\n",
       "    .dataframe thead th {\n",
       "        text-align: right;\n",
       "    }\n",
       "</style>\n",
       "<table border=\"1\" class=\"dataframe\">\n",
       "  <thead>\n",
       "    <tr style=\"text-align: right;\">\n",
       "      <th></th>\n",
       "      <th>course_title</th>\n",
       "      <th>course_organization</th>\n",
       "      <th>course_Certificate_type</th>\n",
       "      <th>course_rating</th>\n",
       "      <th>course_difficulty</th>\n",
       "      <th>course_students_enrolled</th>\n",
       "    </tr>\n",
       "  </thead>\n",
       "  <tbody>\n",
       "    <tr>\n",
       "      <th>0</th>\n",
       "      <td>(ISC)² Systems Security Certified Practitioner...</td>\n",
       "      <td>(ISC)²</td>\n",
       "      <td>SPECIALIZATION</td>\n",
       "      <td>4.7</td>\n",
       "      <td>Beginner</td>\n",
       "      <td>5.3k</td>\n",
       "    </tr>\n",
       "    <tr>\n",
       "      <th>1</th>\n",
       "      <td>A Crash Course in Causality:  Inferring Causal...</td>\n",
       "      <td>University of Pennsylvania</td>\n",
       "      <td>COURSE</td>\n",
       "      <td>4.7</td>\n",
       "      <td>Intermediate</td>\n",
       "      <td>17k</td>\n",
       "    </tr>\n",
       "    <tr>\n",
       "      <th>2</th>\n",
       "      <td>A Crash Course in Data Science</td>\n",
       "      <td>Johns Hopkins University</td>\n",
       "      <td>COURSE</td>\n",
       "      <td>4.5</td>\n",
       "      <td>Mixed</td>\n",
       "      <td>130k</td>\n",
       "    </tr>\n",
       "    <tr>\n",
       "      <th>3</th>\n",
       "      <td>A Law Student's Toolkit</td>\n",
       "      <td>Yale University</td>\n",
       "      <td>COURSE</td>\n",
       "      <td>4.7</td>\n",
       "      <td>Mixed</td>\n",
       "      <td>91k</td>\n",
       "    </tr>\n",
       "    <tr>\n",
       "      <th>4</th>\n",
       "      <td>A Life of Happiness and Fulfillment</td>\n",
       "      <td>Indian School of Business</td>\n",
       "      <td>COURSE</td>\n",
       "      <td>4.8</td>\n",
       "      <td>Mixed</td>\n",
       "      <td>320k</td>\n",
       "    </tr>\n",
       "  </tbody>\n",
       "</table>\n",
       "</div>"
      ],
      "text/plain": [
       "                                        course_title  \\\n",
       "0  (ISC)² Systems Security Certified Practitioner...   \n",
       "1  A Crash Course in Causality:  Inferring Causal...   \n",
       "2                     A Crash Course in Data Science   \n",
       "3                            A Law Student's Toolkit   \n",
       "4                A Life of Happiness and Fulfillment   \n",
       "\n",
       "          course_organization course_Certificate_type  course_rating  \\\n",
       "0                      (ISC)²          SPECIALIZATION            4.7   \n",
       "1  University of Pennsylvania                  COURSE            4.7   \n",
       "2    Johns Hopkins University                  COURSE            4.5   \n",
       "3             Yale University                  COURSE            4.7   \n",
       "4   Indian School of Business                  COURSE            4.8   \n",
       "\n",
       "  course_difficulty course_students_enrolled  \n",
       "0          Beginner                     5.3k  \n",
       "1      Intermediate                      17k  \n",
       "2             Mixed                     130k  \n",
       "3             Mixed                      91k  \n",
       "4             Mixed                     320k  "
      ]
     },
     "execution_count": 2,
     "metadata": {},
     "output_type": "execute_result"
    }
   ],
   "source": [
    "df.drop(\"Unnamed: 0\", axis=1, inplace=True)\n",
    "df.head()"
   ]
  },
  {
   "cell_type": "markdown",
   "metadata": {},
   "source": [
    "3. **Getting Summary Statistics**:"
   ]
  },
  {
   "cell_type": "code",
   "execution_count": 3,
   "metadata": {},
   "outputs": [
    {
     "name": "stdout",
     "output_type": "stream",
     "text": [
      "<class 'pandas.core.frame.DataFrame'>\n",
      "RangeIndex: 891 entries, 0 to 890\n",
      "Data columns (total 6 columns):\n",
      " #   Column                    Non-Null Count  Dtype  \n",
      "---  ------                    --------------  -----  \n",
      " 0   course_title              891 non-null    object \n",
      " 1   course_organization       891 non-null    object \n",
      " 2   course_Certificate_type   891 non-null    object \n",
      " 3   course_rating             891 non-null    float64\n",
      " 4   course_difficulty         891 non-null    object \n",
      " 5   course_students_enrolled  891 non-null    object \n",
      "dtypes: float64(1), object(5)\n",
      "memory usage: 41.9+ KB\n"
     ]
    }
   ],
   "source": [
    "df.info()"
   ]
  },
  {
   "cell_type": "markdown",
   "metadata": {},
   "source": [
    "4. **Checking Dataset Shape and Counting Unique Values**:"
   ]
  },
  {
   "cell_type": "code",
   "execution_count": 4,
   "metadata": {},
   "outputs": [
    {
     "name": "stdout",
     "output_type": "stream",
     "text": [
      "Number of rows: 891, and columns: 6\n",
      "\n",
      "Count of unique: \n",
      "course_title: 888,\n",
      "course_organization: 154,\n",
      "course_Certification_type: 3,\n",
      "course_difficulty: 4\n"
     ]
    }
   ],
   "source": [
    "rows, columns = df.shape\n",
    "print(f\"Number of rows: {rows}, and columns: {columns}\\n\")\n",
    "\n",
    "unique_course_title = df[\"course_title\"].nunique()\n",
    "unique_course_organization = df[\"course_organization\"].nunique()\n",
    "unique_course_Certificate_type = df[\"course_Certificate_type\"].nunique()\n",
    "unique_course_difficulty = df[\"course_difficulty\"].nunique()\n",
    "\n",
    "print(\n",
    "    f\"Count of unique: \\n\"\n",
    "    f\"course_title: {unique_course_title},\\n\"\n",
    "    f\"course_organization: {unique_course_organization},\\n\"\n",
    "    f\"course_Certification_type: {unique_course_Certificate_type},\\n\"\n",
    "    f\"course_difficulty: {unique_course_difficulty}\"\n",
    ")"
   ]
  },
  {
   "cell_type": "markdown",
   "metadata": {},
   "source": [
    "5. **Displaying Unique Values in `course_Certificate_type` and `course_difficulty` Columns**:"
   ]
  },
  {
   "cell_type": "code",
   "execution_count": 5,
   "metadata": {},
   "outputs": [
    {
     "name": "stdout",
     "output_type": "stream",
     "text": [
      "Course certification types: ['SPECIALIZATION' 'COURSE' 'PROFESSIONAL CERTIFICATE'],\n",
      "and courses difficulty: ['Beginner' 'Intermediate' 'Mixed' 'Advanced']\n"
     ]
    }
   ],
   "source": [
    "print(\n",
    "    f\"Course certification types: {df['course_Certificate_type'].unique()},\\nand courses difficulty: {df['course_difficulty'].unique()}\"\n",
    ")"
   ]
  },
  {
   "cell_type": "markdown",
   "metadata": {},
   "source": [
    "6. **Displaying `course_students_enrolled` Column**:"
   ]
  },
  {
   "cell_type": "code",
   "execution_count": 9,
   "metadata": {},
   "outputs": [
    {
     "data": {
      "text/plain": [
       "0      5.3k\n",
       "1       17k\n",
       "2      130k\n",
       "3       91k\n",
       "4      320k\n",
       "       ... \n",
       "886     52k\n",
       "887     21k\n",
       "888     30k\n",
       "889    9.8k\n",
       "890     38k\n",
       "Name: course_students_enrolled, Length: 891, dtype: object"
      ]
     },
     "execution_count": 9,
     "metadata": {},
     "output_type": "execute_result"
    }
   ],
   "source": [
    "df[\"course_students_enrolled\"]"
   ]
  },
  {
   "cell_type": "markdown",
   "metadata": {},
   "source": [
    "### Converting `course_students_enrolled` to Numeric\n",
    "\n",
    "The `course_students_enrolled` column contains enrollment numbers in string format with suffixes like 'k' for thousands and 'm' for millions. To facilitate numerical analysis, this column needs to be converted to a numeric format.\n",
    "\n",
    "1. **Defining Conversion Function**: Defining a function `convert_to_number` to handle the conversion.\n",
    "2. **Applying Conversion**: Applying the `convert_to_number` function to the `course_students_enrolled` column.\n",
    "3. **Verifying Conversion**: Displaying the first few rows of the converted column to verify the changes."
   ]
  },
  {
   "cell_type": "code",
   "execution_count": 2,
   "metadata": {},
   "outputs": [
    {
     "data": {
      "text/html": [
       "<div>\n",
       "<style scoped>\n",
       "    .dataframe tbody tr th:only-of-type {\n",
       "        vertical-align: middle;\n",
       "    }\n",
       "\n",
       "    .dataframe tbody tr th {\n",
       "        vertical-align: top;\n",
       "    }\n",
       "\n",
       "    .dataframe thead th {\n",
       "        text-align: right;\n",
       "    }\n",
       "</style>\n",
       "<table border=\"1\" class=\"dataframe\">\n",
       "  <thead>\n",
       "    <tr style=\"text-align: right;\">\n",
       "      <th></th>\n",
       "      <th>Unnamed: 0</th>\n",
       "      <th>course_title</th>\n",
       "      <th>course_organization</th>\n",
       "      <th>course_Certificate_type</th>\n",
       "      <th>course_rating</th>\n",
       "      <th>course_difficulty</th>\n",
       "      <th>course_students_enrolled</th>\n",
       "    </tr>\n",
       "  </thead>\n",
       "  <tbody>\n",
       "    <tr>\n",
       "      <th>0</th>\n",
       "      <td>134</td>\n",
       "      <td>(ISC)² Systems Security Certified Practitioner...</td>\n",
       "      <td>(ISC)²</td>\n",
       "      <td>SPECIALIZATION</td>\n",
       "      <td>4.7</td>\n",
       "      <td>Beginner</td>\n",
       "      <td>5300.0</td>\n",
       "    </tr>\n",
       "    <tr>\n",
       "      <th>1</th>\n",
       "      <td>743</td>\n",
       "      <td>A Crash Course in Causality:  Inferring Causal...</td>\n",
       "      <td>University of Pennsylvania</td>\n",
       "      <td>COURSE</td>\n",
       "      <td>4.7</td>\n",
       "      <td>Intermediate</td>\n",
       "      <td>17000.0</td>\n",
       "    </tr>\n",
       "    <tr>\n",
       "      <th>2</th>\n",
       "      <td>874</td>\n",
       "      <td>A Crash Course in Data Science</td>\n",
       "      <td>Johns Hopkins University</td>\n",
       "      <td>COURSE</td>\n",
       "      <td>4.5</td>\n",
       "      <td>Mixed</td>\n",
       "      <td>130000.0</td>\n",
       "    </tr>\n",
       "    <tr>\n",
       "      <th>3</th>\n",
       "      <td>413</td>\n",
       "      <td>A Law Student's Toolkit</td>\n",
       "      <td>Yale University</td>\n",
       "      <td>COURSE</td>\n",
       "      <td>4.7</td>\n",
       "      <td>Mixed</td>\n",
       "      <td>91000.0</td>\n",
       "    </tr>\n",
       "    <tr>\n",
       "      <th>4</th>\n",
       "      <td>635</td>\n",
       "      <td>A Life of Happiness and Fulfillment</td>\n",
       "      <td>Indian School of Business</td>\n",
       "      <td>COURSE</td>\n",
       "      <td>4.8</td>\n",
       "      <td>Mixed</td>\n",
       "      <td>320000.0</td>\n",
       "    </tr>\n",
       "  </tbody>\n",
       "</table>\n",
       "</div>"
      ],
      "text/plain": [
       "   Unnamed: 0                                       course_title  \\\n",
       "0         134  (ISC)² Systems Security Certified Practitioner...   \n",
       "1         743  A Crash Course in Causality:  Inferring Causal...   \n",
       "2         874                     A Crash Course in Data Science   \n",
       "3         413                            A Law Student's Toolkit   \n",
       "4         635                A Life of Happiness and Fulfillment   \n",
       "\n",
       "          course_organization course_Certificate_type  course_rating  \\\n",
       "0                      (ISC)²          SPECIALIZATION            4.7   \n",
       "1  University of Pennsylvania                  COURSE            4.7   \n",
       "2    Johns Hopkins University                  COURSE            4.5   \n",
       "3             Yale University                  COURSE            4.7   \n",
       "4   Indian School of Business                  COURSE            4.8   \n",
       "\n",
       "  course_difficulty  course_students_enrolled  \n",
       "0          Beginner                    5300.0  \n",
       "1      Intermediate                   17000.0  \n",
       "2             Mixed                  130000.0  \n",
       "3             Mixed                   91000.0  \n",
       "4             Mixed                  320000.0  "
      ]
     },
     "execution_count": 2,
     "metadata": {},
     "output_type": "execute_result"
    }
   ],
   "source": [
    "df[\"course_students_enrolled\"] = df[\"course_students_enrolled\"].apply(convert_to_number)\n",
    "df.head()"
   ]
  },
  {
   "cell_type": "markdown",
   "metadata": {},
   "source": [
    "This conversion ensures that the `course_students_enrolled` column is in a numeric format, enabling accurate numerical analysis and visualization in subsequent steps.\n",
    "\n",
    "### Finalizing Data Cleaning\n",
    "\n",
    "After converting the `course_students_enrolled` column to numeric format, the final steps involve ensuring the data type is consistent and saving the cleaned dataset.\n",
    "\n",
    "1. **Converting to Integer**: Converting the `course_students_enrolled` column to integer type for consistency and ease of analysis.\n",
    "2. **Saving Cleaned Dataset**: Saving the cleaned dataset to a new CSV file for future use.\n"
   ]
  },
  {
   "cell_type": "code",
   "execution_count": 7,
   "metadata": {},
   "outputs": [],
   "source": [
    "df[\"course_students_enrolled\"] = df[\"course_students_enrolled\"].apply(lambda x: int(x))\n",
    "\n",
    "df.to_csv(\"coursea_data_cleaned.csv\", index=False)"
   ]
  },
  {
   "cell_type": "markdown",
   "metadata": {},
   "source": [
    "These steps ensure that the dataset is clean, with consistent data types, and is saved for subsequent analysis and visualisation tasks."
   ]
  }
 ],
 "metadata": {
  "kernelspec": {
   "display_name": "sub_venv",
   "language": "python",
   "name": "python3"
  },
  "language_info": {
   "codemirror_mode": {
    "name": "ipython",
    "version": 3
   },
   "file_extension": ".py",
   "mimetype": "text/x-python",
   "name": "python",
   "nbconvert_exporter": "python",
   "pygments_lexer": "ipython3",
   "version": "3.12.0"
  }
 },
 "nbformat": 4,
 "nbformat_minor": 2
}
